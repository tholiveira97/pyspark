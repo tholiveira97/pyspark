{
 "cells": [
  {
   "cell_type": "code",
   "execution_count": 75,
   "metadata": {},
   "outputs": [],
   "source": [
    "#lib cria tabelas/sessões do pyspark\n",
    "import pyspark as pyspark \n",
    "from pyspark.sql import SparkSession"
   ]
  },
  {
   "cell_type": "code",
   "execution_count": 76,
   "metadata": {},
   "outputs": [],
   "source": [
    "#lib cria tabelas/sessões do pyspark\n",
    "from pyspark.sql.types import *"
   ]
  },
  {
   "cell_type": "code",
   "execution_count": 79,
   "metadata": {},
   "outputs": [],
   "source": [
    "#lib groupby funções (agg, mean, etc...)\n",
    "import pyspark.sql.functions as f\n",
    "from pyspark.sql.types import FloatType\n",
    "from pyspark.sql.functions import *"
   ]
  },
  {
   "cell_type": "code",
   "execution_count": 3,
   "metadata": {},
   "outputs": [],
   "source": [
    "spark = SparkSession.builder.appName('Dados_Emp').getOrCreate()"
   ]
  },
  {
   "cell_type": "code",
   "execution_count": 4,
   "metadata": {},
   "outputs": [],
   "source": [
    "path_site = r\"C:\\Users\\tthia\\Downloads\\site.json\"\n",
    "path_orc = r\"C:\\Users\\tthia\\Downloads\\loja.orc\"\n",
    "path_contabilidade = r\"C:\\Users\\tthia\\Downloads\\contabilidade.csv.gz\""
   ]
  },
  {
   "cell_type": "code",
   "execution_count": 5,
   "metadata": {},
   "outputs": [],
   "source": [
    "dados_site = spark.read.json(path_site)\n",
    "dados_loja = spark.read.format('orc').load(path_orc)\n",
    "dados_contabilidade = spark.read.format('csv').option('header', True).option('delimiter', \";\").load(path_contabilidade)"
   ]
  },
  {
   "cell_type": "code",
   "execution_count": 11,
   "metadata": {},
   "outputs": [
    {
     "name": "stdout",
     "output_type": "stream",
     "text": [
      "root\n",
      " |-- id_ped: long (nullable = true)\n",
      " |-- id_unidade: string (nullable = true)\n",
      " |-- preco_venda: string (nullable = true)\n",
      " |-- quantidade: string (nullable = true)\n",
      "\n"
     ]
    }
   ],
   "source": [
    "dados_site.printSchema()"
   ]
  },
  {
   "cell_type": "code",
   "execution_count": 13,
   "metadata": {},
   "outputs": [
    {
     "name": "stdout",
     "output_type": "stream",
     "text": [
      "root\n",
      " |-- id: string (nullable = true)\n",
      " |-- status: string (nullable = true)\n",
      " |-- data_pedido: string (nullable = true)\n",
      "\n"
     ]
    }
   ],
   "source": [
    "dados_contabilidade.printSchema()"
   ]
  },
  {
   "cell_type": "code",
   "execution_count": 22,
   "metadata": {},
   "outputs": [],
   "source": [
    "Schema = StructType([StructField('id', IntegerType(), True),\n",
    "                    StructField('Status', StringType(), True),\n",
    "                    StructField('data_pedido', TimestampType(), True)])"
   ]
  },
  {
   "cell_type": "code",
   "execution_count": 24,
   "metadata": {},
   "outputs": [],
   "source": [
    "dados_contabilidade = spark.read.format('csv').schema(Schema).option('header', True).option('delimiter', \";\").load(path_contabilidade)"
   ]
  },
  {
   "cell_type": "code",
   "execution_count": 25,
   "metadata": {},
   "outputs": [
    {
     "name": "stdout",
     "output_type": "stream",
     "text": [
      "root\n",
      " |-- id: integer (nullable = true)\n",
      " |-- Status: string (nullable = true)\n",
      " |-- data_pedido: timestamp (nullable = true)\n",
      "\n"
     ]
    }
   ],
   "source": [
    "dados_contabilidade.printSchema()"
   ]
  },
  {
   "cell_type": "code",
   "execution_count": 40,
   "metadata": {},
   "outputs": [
    {
     "name": "stdout",
     "output_type": "stream",
     "text": [
      "+---------+-------------------+-----------+\n",
      "|id_pedido|       data_entrega|frete_valor|\n",
      "+---------+-------------------+-----------+\n",
      "|965107906|2019-04-22 16:33:14|       22.5|\n",
      "|965107906|2019-04-22 18:08:37|      30.94|\n",
      "+---------+-------------------+-----------+\n",
      "only showing top 2 rows\n",
      "\n"
     ]
    }
   ],
   "source": [
    "dados_loja.show(2)"
   ]
  },
  {
   "cell_type": "code",
   "execution_count": 29,
   "metadata": {},
   "outputs": [
    {
     "name": "stdout",
     "output_type": "stream",
     "text": [
      "+-----------+------+-------------------+\n",
      "|         id|Status|        data_pedido|\n",
      "+-----------+------+-------------------+\n",
      "|  420143590|   CAN|2019-02-11 10:31:00|\n",
      "|-1085764026|   ETM|2019-02-11 07:13:00|\n",
      "+-----------+------+-------------------+\n",
      "only showing top 2 rows\n",
      "\n"
     ]
    }
   ],
   "source": [
    "dados_contabilidade.show(2)"
   ]
  },
  {
   "cell_type": "code",
   "execution_count": 34,
   "metadata": {},
   "outputs": [],
   "source": [
    "dataframe_inner = dados_contabilidade.join(dados_site, dados_contabilidade.id == dados_site.id_ped)"
   ]
  },
  {
   "cell_type": "code",
   "execution_count": 50,
   "metadata": {},
   "outputs": [
    {
     "name": "stdout",
     "output_type": "stream",
     "text": [
      "+-----------+------+-------------------+-----------+----------+-----------+----------+\n",
      "|         id|Status|        data_pedido|     id_ped|id_unidade|preco_venda|quantidade|\n",
      "+-----------+------+-------------------+-----------+----------+-----------+----------+\n",
      "| -716752696|   NFS|2019-02-11 14:26:00| -716752696|         8|      83.73|         1|\n",
      "|  788688814|   ENT|2019-04-09 16:30:00|  788688814|         8|       35.9|         1|\n",
      "| 1036357147|   NFS|2019-04-09 21:17:00| 1036357147|         1|     699.92|         1|\n",
      "|  788688814|   AXD|2019-02-15 13:29:00|  788688814|         8|       35.9|         1|\n",
      "|-1345775998|   PAP|2019-02-15 15:52:00|-1345775998|         1|     229.09|         1|\n",
      "+-----------+------+-------------------+-----------+----------+-----------+----------+\n",
      "only showing top 5 rows\n",
      "\n"
     ]
    }
   ],
   "source": [
    "dataframe_inner.show(5)"
   ]
  },
  {
   "cell_type": "code",
   "execution_count": 42,
   "metadata": {},
   "outputs": [],
   "source": [
    "dataframe_site_loja = dados_loja.join(dados_site, dados_loja.id_pedido == dados_site.id_ped, how = 'full')"
   ]
  },
  {
   "cell_type": "code",
   "execution_count": 49,
   "metadata": {},
   "outputs": [
    {
     "name": "stdout",
     "output_type": "stream",
     "text": [
      "+-----------+-------------------+-----------+-----------+----------+-----------+----------+\n",
      "|  id_pedido|       data_entrega|frete_valor|     id_ped|id_unidade|preco_venda|quantidade|\n",
      "+-----------+-------------------+-----------+-----------+----------+-----------+----------+\n",
      "|-2145969532|2019-04-25 16:29:27|      10.71|-2145969532|         8|       59.9|         3|\n",
      "|-2144499221|2019-05-02 19:08:03|      68.06|-2144499221|         8|      284.0|         1|\n",
      "|-2114249380|2019-04-29 16:20:00|       77.0|-2114249380|         5|     492.48|         1|\n",
      "|-2020035985|2019-04-29 15:29:29|      73.87|-2020035985|         1|      559.0|         1|\n",
      "|-2018039854|2019-04-22 14:02:18|      32.98|-2018039854|         5|      849.0|         1|\n",
      "+-----------+-------------------+-----------+-----------+----------+-----------+----------+\n",
      "only showing top 5 rows\n",
      "\n"
     ]
    }
   ],
   "source": [
    "dataframe_site_loja.show(5)"
   ]
  },
  {
   "cell_type": "code",
   "execution_count": 44,
   "metadata": {},
   "outputs": [
    {
     "data": {
      "text/plain": [
       "57074"
      ]
     },
     "execution_count": 44,
     "metadata": {},
     "output_type": "execute_result"
    }
   ],
   "source": [
    "dataframe_site_loja.count()"
   ]
  },
  {
   "cell_type": "code",
   "execution_count": 45,
   "metadata": {},
   "outputs": [],
   "source": [
    "dataframe_site_loja_dis = dataframe_site_loja.distinct()"
   ]
  },
  {
   "cell_type": "code",
   "execution_count": 46,
   "metadata": {},
   "outputs": [
    {
     "data": {
      "text/plain": [
       "57044"
      ]
     },
     "execution_count": 46,
     "metadata": {},
     "output_type": "execute_result"
    }
   ],
   "source": [
    "dataframe_site_loja_dis.count()"
   ]
  },
  {
   "cell_type": "code",
   "execution_count": 48,
   "metadata": {},
   "outputs": [
    {
     "name": "stdout",
     "output_type": "stream",
     "text": [
      "+-----------+------+-------------------+\n",
      "|         id|Status|        data_pedido|\n",
      "+-----------+------+-------------------+\n",
      "|  283311229|   ENT|2019-02-11 10:16:00|\n",
      "| -804282547|   ENT|2019-02-11 04:00:00|\n",
      "|-1528509500|   ENT|2019-02-11 11:42:00|\n",
      "| -118303931|   ENT|2019-02-11 10:10:00|\n",
      "|-1507015997|   ENT|2019-02-11 04:00:00|\n",
      "+-----------+------+-------------------+\n",
      "only showing top 5 rows\n",
      "\n"
     ]
    }
   ],
   "source": [
    "dados_contabilidade.filter(dados_contabilidade.Status == 'ENT').show(5)"
   ]
  },
  {
   "cell_type": "code",
   "execution_count": 51,
   "metadata": {},
   "outputs": [],
   "source": [
    "dataframe_frevereiro = dados_contabilidade.filter(dados_contabilidade.Status == 'ENT')"
   ]
  },
  {
   "cell_type": "code",
   "execution_count": 52,
   "metadata": {},
   "outputs": [
    {
     "data": {
      "text/plain": [
       "DataFrame[id: int, Status: string, data_pedido: timestamp]"
      ]
     },
     "execution_count": 52,
     "metadata": {},
     "output_type": "execute_result"
    }
   ],
   "source": [
    "dataframe_frevereiro"
   ]
  },
  {
   "cell_type": "code",
   "execution_count": 63,
   "metadata": {},
   "outputs": [],
   "source": [
    "dataframe_frevereiro = dataframe_frevereiro.filter(\n",
    "    dataframe_frevereiro.data_pedido >= '2019-02-01').filter(\n",
    "    dataframe_frevereiro.data_pedido <= '2019-02-28').filter(\n",
    "    dataframe_frevereiro.Status == 'ENT')"
   ]
  },
  {
   "cell_type": "code",
   "execution_count": 64,
   "metadata": {},
   "outputs": [
    {
     "data": {
      "text/plain": [
       "399546"
      ]
     },
     "execution_count": 64,
     "metadata": {},
     "output_type": "execute_result"
    }
   ],
   "source": [
    "dataframe_frevereiro.count()"
   ]
  },
  {
   "cell_type": "code",
   "execution_count": 72,
   "metadata": {},
   "outputs": [],
   "source": [
    "dataframe_groupby = dataframe_site_loja.groupBy(dataframe_site_loja.id_pedido).agg(f.sum(dataframe_site_loja.preco_venda).alias('preco venda agrupado'))"
   ]
  },
  {
   "cell_type": "code",
   "execution_count": 73,
   "metadata": {},
   "outputs": [
    {
     "name": "stdout",
     "output_type": "stream",
     "text": [
      "+-----------+--------------------+\n",
      "|  id_pedido|preco venda agrupado|\n",
      "+-----------+--------------------+\n",
      "|-1327358791|                19.9|\n",
      "| -359035740|              599.91|\n",
      "| 1045323572|                18.9|\n",
      "| -933767611|              2851.8|\n",
      "|-1442837451|              1929.0|\n",
      "|  690565871|             1899.98|\n",
      "|-1761271152|               229.9|\n",
      "| -232933969|              846.21|\n",
      "|  767216253|               949.0|\n",
      "| 1116223944|               399.9|\n",
      "|-1419819680|              2549.0|\n",
      "|-1765787008|              106.36|\n",
      "|  619048573|              757.98|\n",
      "|    8329599|              6236.0|\n",
      "|  176572296|              1999.0|\n",
      "|-1375692421|                85.0|\n",
      "|  847022602|               558.0|\n",
      "| 1973451197|              1190.0|\n",
      "|-1955479379|               899.0|\n",
      "|-1396752534|              165.76|\n",
      "+-----------+--------------------+\n",
      "only showing top 20 rows\n",
      "\n"
     ]
    }
   ],
   "source": [
    "dataframe_groupby.show()"
   ]
  },
  {
   "cell_type": "code",
   "execution_count": 80,
   "metadata": {},
   "outputs": [],
   "source": [
    "#cria nova coluna que puxa o maior valor entre dois campos definidos\n",
    "dataframe_coalesce = dataframe_site_loja.withColumn('nova_coluna', coalesce(dataframe_site_loja.preco_venda, dataframe_site_loja.frete_valor))"
   ]
  },
  {
   "cell_type": "code",
   "execution_count": 81,
   "metadata": {},
   "outputs": [
    {
     "name": "stdout",
     "output_type": "stream",
     "text": [
      "+-----------+-------------------+-----------+-----------+----------+-----------+----------+-----------+\n",
      "|  id_pedido|       data_entrega|frete_valor|     id_ped|id_unidade|preco_venda|quantidade|nova_coluna|\n",
      "+-----------+-------------------+-----------+-----------+----------+-----------+----------+-----------+\n",
      "|-2145969532|2019-04-25 16:29:27|      10.71|-2145969532|         8|       59.9|         3|       59.9|\n",
      "|-2144499221|2019-05-02 19:08:03|      68.06|-2144499221|         8|      284.0|         1|      284.0|\n",
      "|-2114249380|2019-04-29 16:20:00|       77.0|-2114249380|         5|     492.48|         1|     492.48|\n",
      "+-----------+-------------------+-----------+-----------+----------+-----------+----------+-----------+\n",
      "only showing top 3 rows\n",
      "\n"
     ]
    }
   ],
   "source": [
    "dataframe_coalesce.show(3)"
   ]
  },
  {
   "cell_type": "code",
   "execution_count": 83,
   "metadata": {},
   "outputs": [
    {
     "name": "stdout",
     "output_type": "stream",
     "text": [
      "+-----------+-----------+-----------+\n",
      "|preco_venda|frete_valor|nova_coluna|\n",
      "+-----------+-----------+-----------+\n",
      "|       59.9|      10.71|       59.9|\n",
      "|      284.0|      68.06|      284.0|\n",
      "|     492.48|       77.0|     492.48|\n",
      "|      559.0|      73.87|      559.0|\n",
      "|      849.0|      32.98|      849.0|\n",
      "|      84.34|       0.19|      84.34|\n",
      "|       49.9|       9.76|       49.9|\n",
      "|     1159.0|       99.9|     1159.0|\n",
      "|       16.8|       9.29|       16.8|\n",
      "|      499.0|       19.9|      499.0|\n",
      "|      339.0|       64.0|      339.0|\n",
      "|      158.1|       60.2|      158.1|\n",
      "|      709.9|      26.61|      709.9|\n",
      "|      329.9|       32.7|      329.9|\n",
      "|     849.98|       49.7|     849.98|\n",
      "|     1319.8|        9.7|     1319.8|\n",
      "|     1605.5|      49.99|     1605.5|\n",
      "|       34.8|       30.0|       34.8|\n",
      "|      559.9|        0.0|      559.9|\n",
      "|      219.9|       24.0|      219.9|\n",
      "+-----------+-----------+-----------+\n",
      "only showing top 20 rows\n",
      "\n"
     ]
    }
   ],
   "source": [
    "dataframe_coalesce.select(dataframe_coalesce.preco_venda, dataframe_coalesce.frete_valor, dataframe_coalesce.nova_coluna).show()"
   ]
  },
  {
   "cell_type": "code",
   "execution_count": 85,
   "metadata": {},
   "outputs": [
    {
     "data": {
      "text/plain": [
       "DataFrame[id: int, Status: string, data_pedido: timestamp, id_ped: bigint, id_unidade: string, preco_venda: string, quantidade: string]"
      ]
     },
     "execution_count": 85,
     "metadata": {},
     "output_type": "execute_result"
    }
   ],
   "source": [
    "dataframe_inner"
   ]
  },
  {
   "cell_type": "code",
   "execution_count": 86,
   "metadata": {},
   "outputs": [
    {
     "data": {
      "text/plain": [
       "DataFrame[id: int, Status: string, data_pedido: timestamp, id_unidade: string, preco_venda: string, quantidade: string]"
      ]
     },
     "execution_count": 86,
     "metadata": {},
     "output_type": "execute_result"
    }
   ],
   "source": [
    "dataframe_inner.drop(dataframe_inner.id_ped)"
   ]
  },
  {
   "cell_type": "code",
   "execution_count": 87,
   "metadata": {},
   "outputs": [
    {
     "name": "stdout",
     "output_type": "stream",
     "text": [
      "root\n",
      " |-- id: integer (nullable = true)\n",
      " |-- Status: string (nullable = true)\n",
      " |-- data_pedido: timestamp (nullable = true)\n",
      " |-- id_ped: long (nullable = true)\n",
      " |-- id_unidade: string (nullable = true)\n",
      " |-- preco_venda: string (nullable = true)\n",
      " |-- quantidade: string (nullable = true)\n",
      "\n"
     ]
    }
   ],
   "source": [
    "dataframe_inner.printSchema()"
   ]
  },
  {
   "cell_type": "code",
   "execution_count": 88,
   "metadata": {},
   "outputs": [],
   "source": [
    "dataframe_exclusao = dataframe_inner.drop(dataframe_inner.id_ped)"
   ]
  },
  {
   "cell_type": "code",
   "execution_count": 89,
   "metadata": {},
   "outputs": [
    {
     "name": "stdout",
     "output_type": "stream",
     "text": [
      "root\n",
      " |-- id: integer (nullable = true)\n",
      " |-- Status: string (nullable = true)\n",
      " |-- data_pedido: timestamp (nullable = true)\n",
      " |-- id_unidade: string (nullable = true)\n",
      " |-- preco_venda: string (nullable = true)\n",
      " |-- quantidade: string (nullable = true)\n",
      "\n"
     ]
    }
   ],
   "source": [
    "dataframe_exclusao.printSchema()"
   ]
  },
  {
   "cell_type": "code",
   "execution_count": 90,
   "metadata": {},
   "outputs": [],
   "source": [
    "dataframe_nodup = dataframe_frevereiro.dropDuplicates()"
   ]
  },
  {
   "cell_type": "code",
   "execution_count": 91,
   "metadata": {},
   "outputs": [
    {
     "data": {
      "text/plain": [
       "374438"
      ]
     },
     "execution_count": 91,
     "metadata": {},
     "output_type": "execute_result"
    }
   ],
   "source": [
    "dataframe_nodup.count()"
   ]
  },
  {
   "cell_type": "code",
   "execution_count": 92,
   "metadata": {},
   "outputs": [
    {
     "data": {
      "text/plain": [
       "399546"
      ]
     },
     "execution_count": 92,
     "metadata": {},
     "output_type": "execute_result"
    }
   ],
   "source": [
    "dataframe_frevereiro.count()"
   ]
  },
  {
   "cell_type": "code",
   "execution_count": null,
   "metadata": {},
   "outputs": [],
   "source": []
  }
 ],
 "metadata": {
  "kernelspec": {
   "display_name": "Python 3",
   "language": "python",
   "name": "python3"
  },
  "language_info": {
   "codemirror_mode": {
    "name": "ipython",
    "version": 3
   },
   "file_extension": ".py",
   "mimetype": "text/x-python",
   "name": "python",
   "nbconvert_exporter": "python",
   "pygments_lexer": "ipython3",
   "version": "3.8.5"
  }
 },
 "nbformat": 4,
 "nbformat_minor": 4
}
